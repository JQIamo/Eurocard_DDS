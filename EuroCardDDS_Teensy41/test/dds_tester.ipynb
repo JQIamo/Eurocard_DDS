{
 "cells": [
  {
   "cell_type": "code",
   "execution_count": 2,
   "metadata": {},
   "outputs": [],
   "source": [
    "import serial"
   ]
  },
  {
   "cell_type": "code",
   "execution_count": 21,
   "metadata": {},
   "outputs": [],
   "source": [
    "ser = serial.Serial('COM3')\n",
    "# '''\n",
    "ser.write(b'@ 3\\r\\n') # The number after @ is the channel number that can be found on the DDS front panel\n",
    "ser.write(b'w 80000000 0 47\\r\\n') # The three numbers after w are the frequency, phase and amplitude\n",
    "# ser.write(b'f 120000000\\r\\n') # One can also set frequency directly\n",
    "# ser.write(b'a 0\\r\\n') # One can also set amplitude directly\n",
    "# '''\n",
    "ser.write(b'$\\r\\n')\n",
    "ser.close()  "
   ]
  }
 ],
 "metadata": {
  "kernelspec": {
   "display_name": "base",
   "language": "python",
   "name": "python3"
  },
  "language_info": {
   "codemirror_mode": {
    "name": "ipython",
    "version": 3
   },
   "file_extension": ".py",
   "mimetype": "text/x-python",
   "name": "python",
   "nbconvert_exporter": "python",
   "pygments_lexer": "ipython3",
   "version": "3.12.3"
  }
 },
 "nbformat": 4,
 "nbformat_minor": 2
}
